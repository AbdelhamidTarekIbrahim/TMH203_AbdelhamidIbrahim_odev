{
 "cells": [
  {
   "cell_type": "markdown",
   "id": "78090d0c",
   "metadata": {},
   "source": [
    "## ohm's law\n",
    "#we use this law when we need to find the value of the current running through the circuit\n"
   ]
  },
  {
   "cell_type": "code",
   "execution_count": 2,
   "id": "70034f85",
   "metadata": {},
   "outputs": [
    {
     "name": "stdout",
     "output_type": "stream",
     "text": [
      "enter the value of the voltage 10\n",
      "enter the value of the resisitance5\n",
      "the value of the current in ampere is: 2.0\n"
     ]
    }
   ],
   "source": [
    "Voltage=int(input(\"enter the value of the voltage \"))\n",
    "Resisitance=int(input(\"enter the value of the resisitance\"))\n",
    "c=Voltage/Resisitance\n",
    "print(\"the value of the current in ampere is:\",c)\n",
    "\n"
   ]
  },
  {
   "cell_type": "markdown",
   "id": "1ab0f69a",
   "metadata": {},
   "source": [
    "## Simple program to get a student grade \n",
    "#we use tis simple formula to calculate the grade of a student"
   ]
  },
  {
   "cell_type": "code",
   "execution_count": null,
   "id": "0113b77d",
   "metadata": {},
   "outputs": [],
   "source": [
    "English=float(input(\"enter your english marks:\"))\n",
    "Math=float(input(\"enter your math marks :\"))\n",
    "Computers=float(input(\"enter your computer marks:\"))\n",
    "Physics=float(input(\"enter your physics marks:\"))\n",
    "Chemistry=float(input(\"enter your chemistry marks\"))\n",
    "\n",
    "Total= English + Math + Computers + Physics + Chemistry\n",
    "Percentage= (Total / 500)*100\n",
    "\n",
    "print(\"total marks = %.2f\" %Total)\n",
    "print(\"marks percentage = %.2f\" %Percentage)\n",
    "\n",
    "if(Percentage >= 90):\n",
    "    print(\"A grade\")\n",
    "elif(Percentage >= 80):\n",
    "      print(\"B grade\")\n",
    "elif(Percentage >= 70):\n",
    "      print(\"C grade\")\n",
    "elif(Percentage >= 60):\n",
    "      print(\"D grade\")\n",
    "elif(Percentage >= 40):\n",
    "      print(\"E grade\")\n",
    "else:\n",
    "    print(\"fail\")\n"
   ]
  },
  {
   "cell_type": "markdown",
   "id": "df3c704a",
   "metadata": {},
   "source": [
    "## Simple application about rectangle"
   ]
  },
  {
   "cell_type": "code",
   "execution_count": 7,
   "id": "6843be91",
   "metadata": {},
   "outputs": [
    {
     "name": "stdout",
     "output_type": "stream",
     "text": [
      "Please Enter the Length of a Triangle: 10\n",
      "Please Enter the Width of a Triangle: 5\n",
      "The Area of a Rectangle using 10.0 and 5.0  =  50.0\n",
      "The circumference of a rectangle using 10.0 and 5.0 = 15.0\n"
     ]
    }
   ],
   "source": [
    "# Python Program to find Area and the circumference of a Rectangle using length and width\n",
    "\n",
    "length = float(input('Please Enter the Length of a Triangle: '))\n",
    "width = float(input('Please Enter the Width of a Triangle: '))\n",
    "\n",
    "# calculate the area\n",
    "area = length * width\n",
    "\n",
    "print(\"The Area of a Rectangle using\", length, \"and\", width, \" = \", area)\n",
    "\n",
    "# calculate the circumference\n",
    "circumference=length+width\n",
    "\n",
    "print(\"The circumference of a rectangle using\", length, \"and\", width, \"=\", circumference)\n"
   ]
  }
 ],
 "metadata": {
  "kernelspec": {
   "display_name": "Python 3 (ipykernel)",
   "language": "python",
   "name": "python3"
  },
  "language_info": {
   "codemirror_mode": {
    "name": "ipython",
    "version": 3
   },
   "file_extension": ".py",
   "mimetype": "text/x-python",
   "name": "python",
   "nbconvert_exporter": "python",
   "pygments_lexer": "ipython3",
   "version": "3.9.12"
  }
 },
 "nbformat": 4,
 "nbformat_minor": 5
}
